{
 "cells": [
  {
   "cell_type": "code",
   "execution_count": 1,
   "id": "71a409b2",
   "metadata": {},
   "outputs": [],
   "source": [
    "import os\n",
    "import cv2\n",
    "import glob\n",
    "import matplotlib.pyplot as plt\n",
    "from sklearn.preprocessing import StandardScaler, LabelBinarizer\n",
    "from sklearn.model_selection import train_test_split\n",
    "import random\n",
    "import pickle\n",
    "import pandas as pd\n",
    "import numpy as np"
   ]
  },
  {
   "cell_type": "code",
   "execution_count": 2,
   "id": "0974099b",
   "metadata": {},
   "outputs": [],
   "source": [
    "data = pd.read_csv('HousesDataset/HousesInfo.txt', header=None, sep=' ', names=['bedrooms', 'bathrooms', 'area', 'zipcode', 'price'])"
   ]
  },
  {
   "cell_type": "code",
   "execution_count": 3,
   "id": "5681a9a6",
   "metadata": {},
   "outputs": [
    {
     "data": {
      "text/html": [
       "<div>\n",
       "<style scoped>\n",
       "    .dataframe tbody tr th:only-of-type {\n",
       "        vertical-align: middle;\n",
       "    }\n",
       "\n",
       "    .dataframe tbody tr th {\n",
       "        vertical-align: top;\n",
       "    }\n",
       "\n",
       "    .dataframe thead th {\n",
       "        text-align: right;\n",
       "    }\n",
       "</style>\n",
       "<table border=\"1\" class=\"dataframe\">\n",
       "  <thead>\n",
       "    <tr style=\"text-align: right;\">\n",
       "      <th></th>\n",
       "      <th>bedrooms</th>\n",
       "      <th>bathrooms</th>\n",
       "      <th>area</th>\n",
       "      <th>zipcode</th>\n",
       "      <th>price</th>\n",
       "    </tr>\n",
       "  </thead>\n",
       "  <tbody>\n",
       "    <tr>\n",
       "      <th>0</th>\n",
       "      <td>4</td>\n",
       "      <td>4.0</td>\n",
       "      <td>4053</td>\n",
       "      <td>85255</td>\n",
       "      <td>869500</td>\n",
       "    </tr>\n",
       "    <tr>\n",
       "      <th>1</th>\n",
       "      <td>4</td>\n",
       "      <td>3.0</td>\n",
       "      <td>3343</td>\n",
       "      <td>36372</td>\n",
       "      <td>865200</td>\n",
       "    </tr>\n",
       "    <tr>\n",
       "      <th>2</th>\n",
       "      <td>3</td>\n",
       "      <td>4.0</td>\n",
       "      <td>3923</td>\n",
       "      <td>85266</td>\n",
       "      <td>889000</td>\n",
       "    </tr>\n",
       "    <tr>\n",
       "      <th>3</th>\n",
       "      <td>5</td>\n",
       "      <td>5.0</td>\n",
       "      <td>4022</td>\n",
       "      <td>85262</td>\n",
       "      <td>910000</td>\n",
       "    </tr>\n",
       "    <tr>\n",
       "      <th>4</th>\n",
       "      <td>3</td>\n",
       "      <td>4.0</td>\n",
       "      <td>4116</td>\n",
       "      <td>85266</td>\n",
       "      <td>971226</td>\n",
       "    </tr>\n",
       "  </tbody>\n",
       "</table>\n",
       "</div>"
      ],
      "text/plain": [
       "   bedrooms  bathrooms  area  zipcode   price\n",
       "0         4        4.0  4053    85255  869500\n",
       "1         4        3.0  3343    36372  865200\n",
       "2         3        4.0  3923    85266  889000\n",
       "3         5        5.0  4022    85262  910000\n",
       "4         3        4.0  4116    85266  971226"
      ]
     },
     "execution_count": 3,
     "metadata": {},
     "output_type": "execute_result"
    }
   ],
   "source": [
    "data.head()"
   ]
  },
  {
   "cell_type": "code",
   "execution_count": 4,
   "id": "f1c8a693",
   "metadata": {},
   "outputs": [
    {
     "data": {
      "text/plain": [
       "array([  1,   2,   3,   4,   5,   6,   7,   8,   9,  10,  11,  12,  13,\n",
       "        14,  15,  16,  17,  18,  19,  20,  21,  22,  23,  24,  25,  26,\n",
       "        27,  28,  29,  30,  31,  32,  33,  34,  35,  36,  37,  38,  39,\n",
       "        40,  41,  42,  43,  44,  45,  46,  47,  48,  49,  50,  51,  52,\n",
       "        53,  54,  55,  56,  57,  58,  59,  60,  61,  62,  63,  64,  65,\n",
       "        66,  67,  68,  69,  70,  71,  72,  73,  74,  75,  76,  77,  78,\n",
       "        79,  80,  81,  82,  83,  84,  85,  86,  87,  88,  89,  90,  91,\n",
       "        92,  93,  94,  95,  96,  97,  98,  99, 100, 101, 102, 103, 104,\n",
       "       105, 106, 107, 108, 109, 110, 111, 112, 113, 114, 115, 116, 117,\n",
       "       118, 119, 120, 121, 122, 123, 124, 125, 126, 127, 128, 129, 130,\n",
       "       131, 132, 133, 134, 135, 136, 137, 138, 139, 140, 141, 142, 143,\n",
       "       144, 145, 146, 147, 148, 149, 150, 151, 152, 153, 154, 155, 156,\n",
       "       157, 158, 159, 160, 161, 162, 163, 164, 165, 166, 167, 168, 169,\n",
       "       170, 171, 172, 173, 174, 175, 176, 177, 178, 179, 180, 181, 182,\n",
       "       183, 184, 185, 186, 187, 188, 189, 190, 191, 192, 193, 194, 195,\n",
       "       196, 197, 198, 199, 200, 201, 202, 203, 204, 205, 206, 207, 208,\n",
       "       209, 210, 211, 212, 213, 214, 215, 216, 217, 218, 219, 220, 221,\n",
       "       222, 223, 224, 225, 226, 227, 228, 229, 230, 231, 232, 233, 234,\n",
       "       235, 236, 237, 238, 239, 240, 241, 242, 243, 244, 245, 246, 247,\n",
       "       248, 249, 250, 251, 252, 253, 254, 255, 256, 257, 258, 259, 260,\n",
       "       261, 262, 263, 264, 265, 266, 267, 268, 269, 270, 271, 272, 273,\n",
       "       274, 275, 276, 277, 278, 279, 280, 281, 282, 283, 284, 285, 286,\n",
       "       287, 288, 289, 290, 291, 292, 293, 294, 295, 296, 297, 298, 299,\n",
       "       300, 301, 302, 303, 304, 305, 306, 307, 308, 309, 310, 311, 312,\n",
       "       313, 314, 315, 316, 317, 318, 319, 320, 321, 322, 323, 324, 325,\n",
       "       326, 327, 328, 329, 330, 331, 332, 333, 334, 335, 336, 337, 338,\n",
       "       339, 340, 341, 342, 343, 344, 345, 346, 347, 348, 349, 350, 351,\n",
       "       352, 353, 354, 355, 356, 357, 358, 359, 360, 361, 362, 363, 364,\n",
       "       365, 366, 367, 368, 369, 370, 371, 372, 373, 374, 375, 376, 377,\n",
       "       378, 379, 380, 381, 382, 383, 384, 385, 386, 387, 388, 389, 390,\n",
       "       391, 392, 393, 394, 395, 396, 397, 398, 399, 400, 401, 402, 403,\n",
       "       404, 405, 406, 407, 408, 409, 410, 411, 412, 413, 414, 415, 416,\n",
       "       417, 418, 419, 420, 421, 422, 423, 424, 425, 426, 427, 428, 429,\n",
       "       430, 431, 432, 433, 434, 435, 436, 437, 438, 439, 440, 441, 442,\n",
       "       443, 444, 445, 446, 447, 448, 449, 450, 451, 452, 453, 454, 455,\n",
       "       456, 457, 458, 459, 460, 461, 462, 463, 464, 465, 466, 467, 468,\n",
       "       469, 470, 471, 472, 473, 474, 475, 476, 477, 478, 479, 480, 481,\n",
       "       482, 483, 484, 485, 486, 487, 488, 489, 490, 491, 492, 493, 494,\n",
       "       495, 496, 497, 498, 499, 500, 501, 502, 503, 504, 505, 506, 507,\n",
       "       508, 509, 510, 511, 512, 513, 514, 515, 516, 517, 518, 519, 520,\n",
       "       521, 522, 523, 524, 525, 526, 527, 528, 529, 530, 531, 532, 533,\n",
       "       534, 535], dtype=int64)"
      ]
     },
     "execution_count": 4,
     "metadata": {},
     "output_type": "execute_result"
    }
   ],
   "source": [
    "data.index.values + 1"
   ]
  },
  {
   "cell_type": "code",
   "execution_count": 5,
   "id": "c12267cd",
   "metadata": {},
   "outputs": [
    {
     "data": {
      "text/plain": [
       "['HousesDataset\\\\1_bathroom.jpg',\n",
       " 'HousesDataset\\\\1_bedroom.jpg',\n",
       " 'HousesDataset\\\\1_frontal.jpg',\n",
       " 'HousesDataset\\\\1_kitchen.jpg']"
      ]
     },
     "execution_count": 5,
     "metadata": {},
     "output_type": "execute_result"
    }
   ],
   "source": [
    "list(sorted(glob.glob(os.path.sep.join(['HousesDataset', \"{}_*\".format(1)]))))"
   ]
  },
  {
   "cell_type": "code",
   "execution_count": 6,
   "id": "a2cd8473",
   "metadata": {},
   "outputs": [
    {
     "data": {
      "text/plain": [
       "(4, 32, 32, 3)"
      ]
     },
     "execution_count": 6,
     "metadata": {},
     "output_type": "execute_result"
    }
   ],
   "source": [
    "basepath = os.path.sep.join(['HousesDataset', \"{}_*\".format(1)])\n",
    "imgPaths = list(sorted(glob.glob(basepath)))\n",
    "inputImages = []\n",
    "for imgPath in imgPaths:\n",
    "    image = cv2.resize(cv2.imread(imgPath), (32, 32))\n",
    "    inputImages.append(image)\n",
    "np.shape(inputImages)"
   ]
  },
  {
   "cell_type": "code",
   "execution_count": 7,
   "id": "4485c9f3",
   "metadata": {},
   "outputs": [],
   "source": [
    "images = []\n",
    "for i in data.index.values:\n",
    "    basepath = os.path.sep.join(['HousesDataset', \"{}_*\".format(i + 1)])\n",
    "    imgPaths = list(sorted(glob.glob(basepath)))\n",
    "    inputImages = []\n",
    "    for imgPath in imgPaths:\n",
    "        image = cv2.resize(cv2.imread(imgPath), (32, 32))\n",
    "        inputImages.append(image)\n",
    "    outputImage = np.zeros((64, 64, 3), dtype='uint8')\n",
    "    outputImage[0:32, 0:32] = inputImages[0]\n",
    "    outputImage[0:32, 32:64] = inputImages[1]\n",
    "    outputImage[32:64, 32:64] = inputImages[2]\n",
    "    outputImage[32:64, 0:32] = inputImages[3]\n",
    "    images.append(outputImage)"
   ]
  },
  {
   "cell_type": "code",
   "execution_count": 8,
   "id": "a8d7f872",
   "metadata": {},
   "outputs": [
    {
     "data": {
      "text/plain": [
       "(535, 64, 64, 3)"
      ]
     },
     "execution_count": 8,
     "metadata": {},
     "output_type": "execute_result"
    }
   ],
   "source": [
    "images = np.array(images)\n",
    "images.shape"
   ]
  },
  {
   "cell_type": "code",
   "execution_count": 9,
   "id": "f18d8666",
   "metadata": {},
   "outputs": [
    {
     "data": {
      "text/plain": [
       "<matplotlib.image.AxesImage at 0x164f8f0d5b0>"
      ]
     },
     "execution_count": 9,
     "metadata": {},
     "output_type": "execute_result"
    },
    {
     "data": {
      "image/png": "[encoded data removed]",
      "text/plain": [
       "<Figure size 432x288 with 1 Axes>"
      ]
     },
     "metadata": {
      "needs_background": "light"
     },
     "output_type": "display_data"
    }
   ],
   "source": [
    "plt.imshow(images[100][..., ::-1])"
   ]
  },
  {
   "cell_type": "code",
   "execution_count": 10,
   "id": "e6bf704d",
   "metadata": {},
   "outputs": [
    {
     "data": {
      "text/plain": [
       "array([[[106, 146, 170],\n",
       "        [ 94, 139, 166],\n",
       "        [125, 169, 189],\n",
       "        ...,\n",
       "        [ 77, 131, 160],\n",
       "        [ 87,  87, 117],\n",
       "        [ 30,  34,  59]],\n",
       "\n",
       "       [[145, 182, 189],\n",
       "        [107, 158, 176],\n",
       "        [ 97, 138, 168],\n",
       "        ...,\n",
       "        [ 28,  33,  63],\n",
       "        [ 81,  86, 119],\n",
       "        [ 71,  99, 133]],\n",
       "\n",
       "       [[137, 176, 190],\n",
       "        [ 81, 128, 154],\n",
       "        [119, 162, 181],\n",
       "        ...,\n",
       "        [ 13,  12,  38],\n",
       "        [ 68,  75, 102],\n",
       "        [143, 128, 142]],\n",
       "\n",
       "       ...,\n",
       "\n",
       "       [[198, 182, 189],\n",
       "        [181, 160, 175],\n",
       "        [  7,  31,  93],\n",
       "        ...,\n",
       "        [132, 126, 126],\n",
       "        [174, 156, 154],\n",
       "        [177, 171, 168]],\n",
       "\n",
       "       [[160, 157, 173],\n",
       "        [172, 167, 182],\n",
       "        [ 13,  46, 110],\n",
       "        ...,\n",
       "        [188, 169, 167],\n",
       "        [173, 156, 149],\n",
       "        [172, 137, 122]],\n",
       "\n",
       "       [[174, 181, 196],\n",
       "        [202, 175, 179],\n",
       "        [  2,   4,  46],\n",
       "        ...,\n",
       "        [173, 164, 168],\n",
       "        [138, 116,  96],\n",
       "        [ 91,  85,  73]]], dtype=uint8)"
      ]
     },
     "execution_count": 10,
     "metadata": {},
     "output_type": "execute_result"
    }
   ],
   "source": [
    "images[0]"
   ]
  },
  {
   "cell_type": "code",
   "execution_count": 11,
   "id": "8d3a93ff",
   "metadata": {},
   "outputs": [],
   "source": [
    "X_train, X_test, IX_train, IX_test = train_test_split(data, images, random_state=1234)"
   ]
  },
  {
   "cell_type": "code",
   "execution_count": 12,
   "id": "11e05121",
   "metadata": {},
   "outputs": [
    {
     "data": {
      "text/plain": [
       "166     699700\n",
       "499    1495000\n",
       "307     675000\n",
       "189     729000\n",
       "123     699800\n",
       "        ...   \n",
       "279     519900\n",
       "372      74900\n",
       "204     649000\n",
       "53      249900\n",
       "294     385000\n",
       "Name: price, Length: 401, dtype: int64"
      ]
     },
     "execution_count": 12,
     "metadata": {},
     "output_type": "execute_result"
    }
   ],
   "source": [
    "X_train['price']"
   ]
  },
  {
   "cell_type": "code",
   "execution_count": 13,
   "id": "9cd75165",
   "metadata": {},
   "outputs": [],
   "source": [
    "max_price = X_train['price'].max()\n",
    "y_train = X_train['price'] / max_price\n",
    "y_test = X_test['price'] / max_price"
   ]
  },
  {
   "cell_type": "code",
   "execution_count": 14,
   "id": "70cc595d",
   "metadata": {},
   "outputs": [],
   "source": [
    "from tensorflow.keras.models import Model, Sequential\n",
    "from tensorflow.keras.layers import concatenate, Input, Conv2D, MaxPool2D, Dense, Flatten, BatchNormalization, Activation, Dropout"
   ]
  },
  {
   "cell_type": "code",
   "execution_count": 15,
   "id": "63e71415",
   "metadata": {},
   "outputs": [],
   "source": [
    "input1 = Input(shape=(64, 64, 3))\n",
    "conv1 = Conv2D(16, (3, 3), padding='same', activation='relu')(input1)\n",
    "batchnorm1 = BatchNormalization(axis=-1)(conv1)\n",
    "maxpool1 = MaxPool2D(pool_size=(2, 2))(batchnorm1)\n",
    "conv2 = Conv2D(32, (3, 3), padding='same', activation='relu')(maxpool1)\n",
    "batchnorm2 = BatchNormalization(axis=-1)(conv2)\n",
    "maxpool2 = MaxPool2D(pool_size=(2, 2))(batchnorm2)\n",
    "conv3 = Conv2D(64, (3, 3), padding='same', activation='relu')(maxpool2)\n",
    "batchnorm3 = BatchNormalization(axis=-1)(conv3)\n",
    "maxpool3 = MaxPool2D(pool_size=(2, 2))(batchnorm3)\n",
    "flatten1 = Flatten()(maxpool3)\n",
    "dense1 = Dense(32, activation='relu')(flatten1)\n",
    "batchnorm4 = BatchNormalization(axis=-1)(dense1)\n",
    "dropout1 = Dropout(0.5)(batchnorm4)\n",
    "dense2 = Dense(16, activation='relu')(dropout1)"
   ]
  },
  {
   "cell_type": "code",
   "execution_count": 16,
   "id": "c5141019",
   "metadata": {},
   "outputs": [],
   "source": [
    "m1 = Model(input1, dense2)"
   ]
  },
  {
   "cell_type": "code",
   "execution_count": 17,
   "id": "5580c51c",
   "metadata": {},
   "outputs": [
    {
     "name": "stdout",
     "output_type": "stream",
     "text": [
      "Model: \"model\"\n",
      "_________________________________________________________________\n",
      " Layer (type)                Output Shape              Param #   \n",
      "=================================================================\n",
      " input_1 (InputLayer)        [(None, 64, 64, 3)]       0         \n",
      "                                                                 \n",
      " conv2d (Conv2D)             (None, 64, 64, 16)        448       \n",
      "                                                                 \n",
      " batch_normalization (BatchN  (None, 64, 64, 16)       64        \n",
      " ormalization)                                                   \n",
      "                                                                 \n",
      " max_pooling2d (MaxPooling2D  (None, 32, 32, 16)       0         \n",
      " )                                                               \n",
      "                                                                 \n",
      " conv2d_1 (Conv2D)           (None, 32, 32, 32)        4640      \n",
      "                                                                 \n",
      " batch_normalization_1 (Batc  (None, 32, 32, 32)       128       \n",
      " hNormalization)                                                 \n",
      "                                                                 \n",
      " max_pooling2d_1 (MaxPooling  (None, 16, 16, 32)       0         \n",
      " 2D)                                                             \n",
      "                                                                 \n",
      " conv2d_2 (Conv2D)           (None, 16, 16, 64)        18496     \n",
      "                                                                 \n",
      " batch_normalization_2 (Batc  (None, 16, 16, 64)       256       \n",
      " hNormalization)                                                 \n",
      "                                                                 \n",
      " max_pooling2d_2 (MaxPooling  (None, 8, 8, 64)         0         \n",
      " 2D)                                                             \n",
      "                                                                 \n",
      " flatten (Flatten)           (None, 4096)              0         \n",
      "                                                                 \n",
      " dense (Dense)               (None, 32)                131104    \n",
      "                                                                 \n",
      " batch_normalization_3 (Batc  (None, 32)               128       \n",
      " hNormalization)                                                 \n",
      "                                                                 \n",
      " dropout (Dropout)           (None, 32)                0         \n",
      "                                                                 \n",
      " dense_1 (Dense)             (None, 16)                528       \n",
      "                                                                 \n",
      "=================================================================\n",
      "Total params: 155,792\n",
      "Trainable params: 155,504\n",
      "Non-trainable params: 288\n",
      "_________________________________________________________________\n"
     ]
    }
   ],
   "source": [
    "m1.summary()"
   ]
  },
  {
   "cell_type": "code",
   "execution_count": 18,
   "id": "651c21b0",
   "metadata": {},
   "outputs": [],
   "source": [
    "ss = StandardScaler()\n",
    "XT = ss.fit_transform(X_train[['bedrooms', 'bathrooms', 'area']])\n",
    "Xt = ss.transform(X_test[['bedrooms', 'bathrooms', 'area']])"
   ]
  },
  {
   "cell_type": "code",
   "execution_count": 19,
   "id": "3b701f5f",
   "metadata": {},
   "outputs": [],
   "source": [
    "lb = LabelBinarizer()\n",
    "lb.fit(data['zipcode'])\n",
    "XTz = lb.transform(X_train['zipcode'])\n",
    "Xtz = lb.transform(X_test['zipcode'])"
   ]
  },
  {
   "cell_type": "code",
   "execution_count": 20,
   "id": "18ad8430",
   "metadata": {},
   "outputs": [
    {
     "data": {
      "text/plain": [
       "array([0, 0, 0, 0, 0, 0, 0, 0, 0, 0, 0, 0, 0, 0, 0, 0, 0, 0, 0, 0, 0, 0,\n",
       "       0, 1, 0, 0, 0, 0, 0, 0, 0, 0, 0, 0, 0, 0, 0, 0, 0, 0, 0, 0, 0, 0,\n",
       "       0, 0, 0, 0, 0])"
      ]
     },
     "execution_count": 20,
     "metadata": {},
     "output_type": "execute_result"
    }
   ],
   "source": [
    "XTz[100]"
   ]
  },
  {
   "cell_type": "code",
   "execution_count": 21,
   "id": "c5e011f4",
   "metadata": {},
   "outputs": [],
   "source": [
    "XT = np.hstack([XT, XTz])\n",
    "Xt = np.hstack([Xt, Xtz])"
   ]
  },
  {
   "cell_type": "code",
   "execution_count": 22,
   "id": "c10bfca1",
   "metadata": {},
   "outputs": [
    {
     "data": {
      "text/plain": [
       "array([-0.31858977, -0.69358105,  0.26909095,  0.        ,  0.        ,\n",
       "        0.        ,  0.        ,  0.        ,  0.        ,  0.        ,\n",
       "        0.        ,  0.        ,  0.        ,  0.        ,  0.        ,\n",
       "        0.        ,  0.        ,  0.        ,  0.        ,  0.        ,\n",
       "        0.        ,  0.        ,  0.        ,  0.        ,  0.        ,\n",
       "        0.        ,  1.        ,  0.        ,  0.        ,  0.        ,\n",
       "        0.        ,  0.        ,  0.        ,  0.        ,  0.        ,\n",
       "        0.        ,  0.        ,  0.        ,  0.        ,  0.        ,\n",
       "        0.        ,  0.        ,  0.        ,  0.        ,  0.        ,\n",
       "        0.        ,  0.        ,  0.        ,  0.        ,  0.        ,\n",
       "        0.        ,  0.        ])"
      ]
     },
     "execution_count": 22,
     "metadata": {},
     "output_type": "execute_result"
    }
   ],
   "source": [
    "XT[100]"
   ]
  },
  {
   "cell_type": "code",
   "execution_count": 23,
   "id": "0ca35dad",
   "metadata": {},
   "outputs": [
    {
     "data": {
      "text/plain": [
       "(401, 52)"
      ]
     },
     "execution_count": 23,
     "metadata": {},
     "output_type": "execute_result"
    }
   ],
   "source": [
    "XT.shape"
   ]
  },
  {
   "cell_type": "code",
   "execution_count": 24,
   "id": "60698b14",
   "metadata": {},
   "outputs": [
    {
     "data": {
      "text/plain": [
       "(134, 52)"
      ]
     },
     "execution_count": 24,
     "metadata": {},
     "output_type": "execute_result"
    }
   ],
   "source": [
    "Xt.shape"
   ]
  },
  {
   "cell_type": "code",
   "execution_count": 25,
   "id": "bd23e084",
   "metadata": {},
   "outputs": [],
   "source": [
    "m2 = Sequential()\n",
    "m2.add(Dense(16, activation='relu', input_dim=52))\n",
    "m2.add(Dropout(0.5))\n",
    "m2.add(Dense(8, activation='relu'))\n",
    "m2.add(Dense(4, activation='relu'))"
   ]
  },
  {
   "cell_type": "code",
   "execution_count": 26,
   "id": "f01a1d3c",
   "metadata": {},
   "outputs": [
    {
     "name": "stdout",
     "output_type": "stream",
     "text": [
      "Model: \"sequential\"\n",
      "_________________________________________________________________\n",
      " Layer (type)                Output Shape              Param #   \n",
      "=================================================================\n",
      " dense_2 (Dense)             (None, 16)                848       \n",
      "                                                                 \n",
      " dropout_1 (Dropout)         (None, 16)                0         \n",
      "                                                                 \n",
      " dense_3 (Dense)             (None, 8)                 136       \n",
      "                                                                 \n",
      " dense_4 (Dense)             (None, 4)                 36        \n",
      "                                                                 \n",
      "=================================================================\n",
      "Total params: 1,020\n",
      "Trainable params: 1,020\n",
      "Non-trainable params: 0\n",
      "_________________________________________________________________\n"
     ]
    }
   ],
   "source": [
    "m2.summary()"
   ]
  },
  {
   "cell_type": "code",
   "execution_count": 27,
   "id": "f4368347",
   "metadata": {},
   "outputs": [],
   "source": [
    "combineModel = concatenate([m2.output, m1.output])"
   ]
  },
  {
   "cell_type": "code",
   "execution_count": 28,
   "id": "ef97c4ec",
   "metadata": {},
   "outputs": [],
   "source": [
    "densef1 = Dense(8, activation='relu')(combineModel)\n",
    "densef2 = Dense(1, activation='linear')(densef1)\n",
    "model = Model(inputs=[m2.input, m1.input], outputs=densef2)"
   ]
  },
  {
   "cell_type": "code",
   "execution_count": 29,
   "id": "20493c62",
   "metadata": {},
   "outputs": [
    {
     "name": "stdout",
     "output_type": "stream",
     "text": [
      "Model: \"model_1\"\n",
      "__________________________________________________________________________________________________\n",
      " Layer (type)                   Output Shape         Param #     Connected to                     \n",
      "==================================================================================================\n",
      " input_1 (InputLayer)           [(None, 64, 64, 3)]  0           []                               \n",
      "                                                                                                  \n",
      " conv2d (Conv2D)                (None, 64, 64, 16)   448         ['input_1[0][0]']                \n",
      "                                                                                                  \n",
      " batch_normalization (BatchNorm  (None, 64, 64, 16)  64          ['conv2d[0][0]']                 \n",
      " alization)                                                                                       \n",
      "                                                                                                  \n",
      " max_pooling2d (MaxPooling2D)   (None, 32, 32, 16)   0           ['batch_normalization[0][0]']    \n",
      "                                                                                                  \n",
      " conv2d_1 (Conv2D)              (None, 32, 32, 32)   4640        ['max_pooling2d[0][0]']          \n",
      "                                                                                                  \n",
      " batch_normalization_1 (BatchNo  (None, 32, 32, 32)  128         ['conv2d_1[0][0]']               \n",
      " rmalization)                                                                                     \n",
      "                                                                                                  \n",
      " max_pooling2d_1 (MaxPooling2D)  (None, 16, 16, 32)  0           ['batch_normalization_1[0][0]']  \n",
      "                                                                                                  \n",
      " conv2d_2 (Conv2D)              (None, 16, 16, 64)   18496       ['max_pooling2d_1[0][0]']        \n",
      "                                                                                                  \n",
      " batch_normalization_2 (BatchNo  (None, 16, 16, 64)  256         ['conv2d_2[0][0]']               \n",
      " rmalization)                                                                                     \n",
      "                                                                                                  \n",
      " max_pooling2d_2 (MaxPooling2D)  (None, 8, 8, 64)    0           ['batch_normalization_2[0][0]']  \n",
      "                                                                                                  \n",
      " dense_2_input (InputLayer)     [(None, 52)]         0           []                               \n",
      "                                                                                                  \n",
      " flatten (Flatten)              (None, 4096)         0           ['max_pooling2d_2[0][0]']        \n",
      "                                                                                                  \n",
      " dense_2 (Dense)                (None, 16)           848         ['dense_2_input[0][0]']          \n",
      "                                                                                                  \n",
      " dense (Dense)                  (None, 32)           131104      ['flatten[0][0]']                \n",
      "                                                                                                  \n",
      " dropout_1 (Dropout)            (None, 16)           0           ['dense_2[0][0]']                \n",
      "                                                                                                  \n",
      " batch_normalization_3 (BatchNo  (None, 32)          128         ['dense[0][0]']                  \n",
      " rmalization)                                                                                     \n",
      "                                                                                                  \n",
      " dense_3 (Dense)                (None, 8)            136         ['dropout_1[0][0]']              \n",
      "                                                                                                  \n",
      " dropout (Dropout)              (None, 32)           0           ['batch_normalization_3[0][0]']  \n",
      "                                                                                                  \n",
      " dense_4 (Dense)                (None, 4)            36          ['dense_3[0][0]']                \n",
      "                                                                                                  \n",
      " dense_1 (Dense)                (None, 16)           528         ['dropout[0][0]']                \n",
      "                                                                                                  \n",
      " concatenate (Concatenate)      (None, 20)           0           ['dense_4[0][0]',                \n",
      "                                                                  'dense_1[0][0]']                \n",
      "                                                                                                  \n",
      " dense_5 (Dense)                (None, 8)            168         ['concatenate[0][0]']            \n",
      "                                                                                                  \n",
      " dense_6 (Dense)                (None, 1)            9           ['dense_5[0][0]']                \n",
      "                                                                                                  \n",
      "==================================================================================================\n",
      "Total params: 156,989\n",
      "Trainable params: 156,701\n",
      "Non-trainable params: 288\n",
      "__________________________________________________________________________________________________\n"
     ]
    }
   ],
   "source": [
    "model.summary()"
   ]
  },
  {
   "cell_type": "code",
   "execution_count": 30,
   "id": "55938377",
   "metadata": {},
   "outputs": [],
   "source": [
    "from tensorflow.keras.utils import plot_model"
   ]
  },
  {
   "cell_type": "code",
   "execution_count": 31,
   "id": "99acb300",
   "metadata": {},
   "outputs": [
    {
     "name": "stdout",
     "output_type": "stream",
     "text": [
      "You must install pydot (`pip install pydot`) and install graphviz (see instructions at https://graphviz.gitlab.io/download/) for plot_model to work.\n"
     ]
    }
   ],
   "source": [
    "plot_model(model, show_shapes=True)"
   ]
  },
  {
   "cell_type": "code",
   "execution_count": 32,
   "id": "2521c649",
   "metadata": {},
   "outputs": [],
   "source": [
    "model.compile(optimizer='adam', loss='mean_absolute_error')"
   ]
  },
  {
   "cell_type": "code",
   "execution_count": 33,
   "id": "6c6f92b8",
   "metadata": {},
   "outputs": [
    {
     "name": "stdout",
     "output_type": "stream",
     "text": [
      "Epoch 1/100\n",
      "41/41 [==============================] - 3s 45ms/step - loss: 0.3977 - val_loss: 1.0994\n",
      "Epoch 2/100\n",
      "41/41 [==============================] - 1s 28ms/step - loss: 0.2123 - val_loss: 0.1379\n",
      "Epoch 3/100\n",
      "41/41 [==============================] - 1s 27ms/step - loss: 0.1356 - val_loss: 0.0921\n",
      "Epoch 4/100\n",
      "41/41 [==============================] - 1s 26ms/step - loss: 0.1165 - val_loss: 0.0900\n",
      "Epoch 5/100\n",
      "41/41 [==============================] - 1s 26ms/step - loss: 0.0891 - val_loss: 0.0868\n",
      "Epoch 6/100\n",
      "41/41 [==============================] - 1s 27ms/step - loss: 0.0861 - val_loss: 0.0849\n",
      "Epoch 7/100\n",
      "41/41 [==============================] - 1s 25ms/step - loss: 0.0839 - val_loss: 0.0848\n",
      "Epoch 8/100\n",
      "41/41 [==============================] - 1s 26ms/step - loss: 0.0766 - val_loss: 0.0847\n",
      "Epoch 9/100\n",
      "41/41 [==============================] - 1s 27ms/step - loss: 0.0771 - val_loss: 0.0837\n",
      "Epoch 10/100\n",
      "41/41 [==============================] - 1s 26ms/step - loss: 0.0756 - val_loss: 0.0831\n",
      "Epoch 11/100\n",
      "41/41 [==============================] - 1s 28ms/step - loss: 0.0755 - val_loss: 0.0814\n",
      "Epoch 12/100\n",
      "41/41 [==============================] - 1s 26ms/step - loss: 0.0720 - val_loss: 0.0796\n",
      "Epoch 13/100\n",
      "41/41 [==============================] - 1s 26ms/step - loss: 0.0714 - val_loss: 0.0773\n",
      "Epoch 14/100\n",
      "41/41 [==============================] - 1s 26ms/step - loss: 0.0678 - val_loss: 0.0772\n",
      "Epoch 15/100\n",
      "41/41 [==============================] - 1s 29ms/step - loss: 0.0658 - val_loss: 0.0748\n",
      "Epoch 16/100\n",
      "41/41 [==============================] - 1s 27ms/step - loss: 0.0656 - val_loss: 0.0750\n",
      "Epoch 17/100\n",
      "41/41 [==============================] - 1s 26ms/step - loss: 0.0666 - val_loss: 0.0743\n",
      "Epoch 18/100\n",
      "41/41 [==============================] - 1s 26ms/step - loss: 0.0654 - val_loss: 0.0752\n",
      "Epoch 19/100\n",
      "41/41 [==============================] - 1s 27ms/step - loss: 0.0630 - val_loss: 0.0723\n",
      "Epoch 20/100\n",
      "41/41 [==============================] - 1s 28ms/step - loss: 0.0662 - val_loss: 0.0704\n",
      "Epoch 21/100\n",
      "41/41 [==============================] - 1s 26ms/step - loss: 0.0659 - val_loss: 0.0714\n",
      "Epoch 22/100\n",
      "41/41 [==============================] - 1s 27ms/step - loss: 0.0605 - val_loss: 0.0697\n",
      "Epoch 23/100\n",
      "41/41 [==============================] - 1s 27ms/step - loss: 0.0622 - val_loss: 0.0684\n",
      "Epoch 24/100\n",
      "41/41 [==============================] - 1s 26ms/step - loss: 0.0586 - val_loss: 0.0817\n",
      "Epoch 25/100\n",
      "41/41 [==============================] - 1s 26ms/step - loss: 0.0571 - val_loss: 0.0667\n",
      "Epoch 26/100\n",
      "41/41 [==============================] - 1s 26ms/step - loss: 0.0541 - val_loss: 0.0670\n",
      "Epoch 27/100\n",
      "41/41 [==============================] - 1s 28ms/step - loss: 0.0567 - val_loss: 0.0655\n",
      "Epoch 28/100\n",
      "41/41 [==============================] - 1s 27ms/step - loss: 0.0589 - val_loss: 0.0676\n",
      "Epoch 29/100\n",
      "41/41 [==============================] - 1s 27ms/step - loss: 0.0524 - val_loss: 0.0646\n",
      "Epoch 30/100\n",
      "41/41 [==============================] - 1s 32ms/step - loss: 0.0526 - val_loss: 0.0627\n",
      "Epoch 31/100\n",
      "41/41 [==============================] - 1s 25ms/step - loss: 0.0506 - val_loss: 0.0650\n",
      "Epoch 32/100\n",
      "41/41 [==============================] - 1s 27ms/step - loss: 0.0476 - val_loss: 0.0645\n",
      "Epoch 33/100\n",
      "41/41 [==============================] - 1s 27ms/step - loss: 0.0509 - val_loss: 0.0629\n",
      "Epoch 34/100\n",
      "41/41 [==============================] - 1s 30ms/step - loss: 0.0483 - val_loss: 0.0598\n",
      "Epoch 35/100\n",
      "41/41 [==============================] - 1s 26ms/step - loss: 0.0476 - val_loss: 0.0633\n",
      "Epoch 36/100\n",
      "41/41 [==============================] - 1s 29ms/step - loss: 0.0461 - val_loss: 0.0611\n",
      "Epoch 37/100\n",
      "41/41 [==============================] - 1s 25ms/step - loss: 0.0463 - val_loss: 0.0588\n",
      "Epoch 38/100\n",
      "41/41 [==============================] - 1s 27ms/step - loss: 0.0460 - val_loss: 0.0602\n",
      "Epoch 39/100\n",
      "41/41 [==============================] - 1s 27ms/step - loss: 0.0429 - val_loss: 0.0604\n",
      "Epoch 40/100\n",
      "41/41 [==============================] - 1s 27ms/step - loss: 0.0450 - val_loss: 0.0587\n",
      "Epoch 41/100\n",
      "41/41 [==============================] - 1s 29ms/step - loss: 0.0445 - val_loss: 0.0583\n",
      "Epoch 42/100\n",
      "41/41 [==============================] - 1s 27ms/step - loss: 0.0395 - val_loss: 0.0581\n",
      "Epoch 43/100\n",
      "41/41 [==============================] - 1s 28ms/step - loss: 0.0410 - val_loss: 0.0586\n",
      "Epoch 44/100\n",
      "41/41 [==============================] - 1s 28ms/step - loss: 0.0397 - val_loss: 0.0590\n",
      "Epoch 45/100\n",
      "41/41 [==============================] - 1s 27ms/step - loss: 0.0367 - val_loss: 0.0593\n",
      "Epoch 46/100\n",
      "41/41 [==============================] - 1s 26ms/step - loss: 0.0364 - val_loss: 0.0616\n",
      "Epoch 47/100\n",
      "41/41 [==============================] - 1s 28ms/step - loss: 0.0379 - val_loss: 0.0611\n",
      "Epoch 48/100\n",
      "41/41 [==============================] - 1s 25ms/step - loss: 0.0400 - val_loss: 0.0580\n",
      "Epoch 49/100\n",
      "41/41 [==============================] - 1s 25ms/step - loss: 0.0390 - val_loss: 0.0599\n",
      "Epoch 50/100\n",
      "41/41 [==============================] - 1s 28ms/step - loss: 0.0411 - val_loss: 0.0616\n",
      "Epoch 51/100\n",
      "41/41 [==============================] - 1s 26ms/step - loss: 0.0390 - val_loss: 0.0567\n",
      "Epoch 52/100\n",
      "41/41 [==============================] - 1s 29ms/step - loss: 0.0383 - val_loss: 0.0559\n",
      "Epoch 53/100\n",
      "41/41 [==============================] - 1s 27ms/step - loss: 0.0351 - val_loss: 0.0562\n",
      "Epoch 54/100\n",
      "41/41 [==============================] - 1s 28ms/step - loss: 0.0332 - val_loss: 0.0555\n",
      "Epoch 55/100\n",
      "41/41 [==============================] - 1s 27ms/step - loss: 0.0385 - val_loss: 0.0645\n",
      "Epoch 56/100\n",
      "41/41 [==============================] - 1s 27ms/step - loss: 0.0343 - val_loss: 0.0539\n",
      "Epoch 57/100\n",
      "41/41 [==============================] - 1s 27ms/step - loss: 0.0350 - val_loss: 0.0530\n",
      "Epoch 58/100\n",
      "41/41 [==============================] - 1s 26ms/step - loss: 0.0361 - val_loss: 0.0530\n",
      "Epoch 59/100\n",
      "41/41 [==============================] - 1s 26ms/step - loss: 0.0328 - val_loss: 0.0581\n",
      "Epoch 60/100\n",
      "41/41 [==============================] - 1s 26ms/step - loss: 0.0355 - val_loss: 0.0541\n",
      "Epoch 61/100\n",
      "41/41 [==============================] - 1s 25ms/step - loss: 0.0323 - val_loss: 0.0568\n",
      "Epoch 62/100\n",
      "41/41 [==============================] - 1s 25ms/step - loss: 0.0315 - val_loss: 0.0556\n",
      "Epoch 63/100\n",
      "41/41 [==============================] - 1s 24ms/step - loss: 0.0328 - val_loss: 0.0540\n",
      "Epoch 64/100\n",
      "41/41 [==============================] - 1s 25ms/step - loss: 0.0371 - val_loss: 0.0585\n",
      "Epoch 65/100\n",
      "41/41 [==============================] - 1s 25ms/step - loss: 0.0329 - val_loss: 0.0583\n",
      "Epoch 66/100\n",
      "41/41 [==============================] - 1s 25ms/step - loss: 0.0332 - val_loss: 0.0557\n",
      "Epoch 67/100\n",
      "41/41 [==============================] - 1s 25ms/step - loss: 0.0310 - val_loss: 0.0535\n",
      "Epoch 68/100\n",
      "41/41 [==============================] - 1s 25ms/step - loss: 0.0300 - val_loss: 0.0587\n",
      "Epoch 69/100\n",
      "41/41 [==============================] - 1s 25ms/step - loss: 0.0313 - val_loss: 0.0559\n",
      "Epoch 70/100\n",
      "41/41 [==============================] - 1s 25ms/step - loss: 0.0292 - val_loss: 0.0535\n",
      "Epoch 71/100\n",
      "41/41 [==============================] - 1s 25ms/step - loss: 0.0294 - val_loss: 0.0560\n",
      "Epoch 72/100\n",
      "41/41 [==============================] - 1s 25ms/step - loss: 0.0335 - val_loss: 0.0587\n",
      "Epoch 73/100\n",
      "41/41 [==============================] - 1s 25ms/step - loss: 0.0287 - val_loss: 0.0540\n",
      "Epoch 74/100\n",
      "41/41 [==============================] - 1s 28ms/step - loss: 0.0319 - val_loss: 0.0594\n",
      "Epoch 75/100\n",
      "41/41 [==============================] - 1s 26ms/step - loss: 0.0305 - val_loss: 0.0528\n",
      "Epoch 76/100\n",
      "41/41 [==============================] - 1s 25ms/step - loss: 0.0286 - val_loss: 0.0527\n",
      "Epoch 77/100\n",
      "41/41 [==============================] - 1s 25ms/step - loss: 0.0302 - val_loss: 0.0538\n",
      "Epoch 78/100\n",
      "41/41 [==============================] - 1s 25ms/step - loss: 0.0318 - val_loss: 0.0542\n",
      "Epoch 79/100\n",
      "41/41 [==============================] - 1s 26ms/step - loss: 0.0320 - val_loss: 0.0518\n",
      "Epoch 80/100\n",
      "41/41 [==============================] - 1s 30ms/step - loss: 0.0321 - val_loss: 0.0535\n",
      "Epoch 81/100\n",
      "41/41 [==============================] - 1s 28ms/step - loss: 0.0320 - val_loss: 0.0542\n",
      "Epoch 82/100\n"
     ]
    },
    {
     "name": "stdout",
     "output_type": "stream",
     "text": [
      "41/41 [==============================] - 1s 26ms/step - loss: 0.0317 - val_loss: 0.0627\n",
      "Epoch 83/100\n",
      "41/41 [==============================] - 1s 27ms/step - loss: 0.0298 - val_loss: 0.0529\n",
      "Epoch 84/100\n",
      "41/41 [==============================] - 1s 26ms/step - loss: 0.0286 - val_loss: 0.0525\n",
      "Epoch 85/100\n",
      "41/41 [==============================] - 1s 26ms/step - loss: 0.0278 - val_loss: 0.0532\n",
      "Epoch 86/100\n",
      "41/41 [==============================] - 1s 26ms/step - loss: 0.0280 - val_loss: 0.0543\n",
      "Epoch 87/100\n",
      "41/41 [==============================] - 1s 27ms/step - loss: 0.0289 - val_loss: 0.0522\n",
      "Epoch 88/100\n",
      "41/41 [==============================] - 1s 26ms/step - loss: 0.0300 - val_loss: 0.0515\n",
      "Epoch 89/100\n",
      "41/41 [==============================] - 1s 26ms/step - loss: 0.0294 - val_loss: 0.0506\n",
      "Epoch 90/100\n",
      "41/41 [==============================] - 1s 26ms/step - loss: 0.0274 - val_loss: 0.0523\n",
      "Epoch 91/100\n",
      "41/41 [==============================] - 1s 26ms/step - loss: 0.0295 - val_loss: 0.0522\n",
      "Epoch 92/100\n",
      "41/41 [==============================] - 1s 27ms/step - loss: 0.0270 - val_loss: 0.0518\n",
      "Epoch 93/100\n",
      "41/41 [==============================] - 1s 27ms/step - loss: 0.0268 - val_loss: 0.0536\n",
      "Epoch 94/100\n",
      "41/41 [==============================] - 1s 26ms/step - loss: 0.0261 - val_loss: 0.0560\n",
      "Epoch 95/100\n",
      "41/41 [==============================] - 1s 26ms/step - loss: 0.0258 - val_loss: 0.0543\n",
      "Epoch 96/100\n",
      "41/41 [==============================] - 1s 26ms/step - loss: 0.0271 - val_loss: 0.0528\n",
      "Epoch 97/100\n",
      "41/41 [==============================] - 1s 26ms/step - loss: 0.0257 - val_loss: 0.0534\n",
      "Epoch 98/100\n",
      "41/41 [==============================] - 1s 26ms/step - loss: 0.0264 - val_loss: 0.0521\n",
      "Epoch 99/100\n",
      "41/41 [==============================] - 1s 26ms/step - loss: 0.0276 - val_loss: 0.0504\n",
      "Epoch 100/100\n",
      "41/41 [==============================] - 1s 26ms/step - loss: 0.0261 - val_loss: 0.0520\n"
     ]
    },
    {
     "data": {
      "text/plain": [
       "<keras.callbacks.History at 0x1648b02e850>"
      ]
     },
     "execution_count": 33,
     "metadata": {},
     "output_type": "execute_result"
    }
   ],
   "source": [
    "model.fit([XT, IX_train], y_train, validation_data=([Xt, IX_test], y_test), epochs=100, batch_size=10)"
   ]
  },
  {
   "cell_type": "code",
   "execution_count": 34,
   "id": "cfb32d15",
   "metadata": {},
   "outputs": [
    {
     "name": "stdout",
     "output_type": "stream",
     "text": [
      "5/5 [==============================] - 0s 17ms/step\n"
     ]
    }
   ],
   "source": [
    "predicts = model.predict([Xt, IX_test]) * max_price"
   ]
  },
  {
   "cell_type": "code",
   "execution_count": 35,
   "id": "391424fe",
   "metadata": {},
   "outputs": [
    {
     "data": {
      "text/plain": [
       "array([ 770522.35603333,  533561.70654297,  923186.18297577,\n",
       "       1380246.87767029,  224455.19268513,  862300.99201202,\n",
       "        466978.81817818, 1115710.85453033,  346772.9985714 ,\n",
       "        319358.31904411,  619065.52314758,  350468.1289196 ,\n",
       "        669421.01716995,  671157.00244904,  969587.80288696,\n",
       "        351962.68558502,  513524.88994598,  564688.68255615,\n",
       "        508026.9575119 ,  177637.21942902, 1128796.33903503,\n",
       "        289158.94031525,  363350.80862045,  736851.811409  ,\n",
       "        603722.21469879,  372119.30751801,  362507.93933868,\n",
       "        650130.62953949,  632070.60098648,  704252.00462341,\n",
       "        439023.43511581,  520064.83078003,  687122.3449707 ,\n",
       "        501139.93883133,  547941.32709503,  463480.56197166,\n",
       "        917808.65192413, 1136771.67892456,  258823.21596146,\n",
       "        140024.00636673,  372853.48773003,  597189.6648407 ,\n",
       "        752468.10913086, 1259317.99411774,  485507.90548325,\n",
       "        768973.46973419,  494352.60891914,  734020.94841003,\n",
       "        808627.12860107,  443276.37553215,  756653.66649628,\n",
       "        588478.56521606,  689684.27181244,  245185.8818531 ,\n",
       "        504365.3845787 ,  270403.14674377,  414986.07397079,\n",
       "        581347.16749191, 1447766.06559753,  280350.23808479,\n",
       "        546160.8171463 ,  675495.86296082,  353596.74692154,\n",
       "        485781.49080276,  980995.89347839,  941485.28575897,\n",
       "        154177.93393135,  311572.70073891,  539409.2798233 ,\n",
       "        636382.69901276,  519659.28077698,  602445.78123093,\n",
       "        121049.94803667,  529694.19956207,  159276.05330944,\n",
       "       1054286.71836853,  647453.42731476,  197923.95830154,\n",
       "        278714.35880661,  409891.36695862,  535205.84106445,\n",
       "        571196.79450989,  652272.10521698,  721796.27418518,\n",
       "        144320.93501091,  519469.02275085,  608705.52062988,\n",
       "        582206.84528351,  669524.61004257,  294975.07214546,\n",
       "        513312.10136414,  461075.33574104,  456610.02397537,\n",
       "        612577.55756378,  404853.96981239,  755700.94585419,\n",
       "        280979.60352898,  153487.07139492,  550959.34867859,\n",
       "        728327.03590393,  139313.66801262,  152146.35431767,\n",
       "        440418.95866394,  512694.47803497,  840301.15604401,\n",
       "        150247.64835835,  229642.91274548,  173845.3656435 ,\n",
       "        535357.71369934,  714088.67835999,  451577.30579376,\n",
       "        694098.23417664,  606207.37075806,  481365.68069458,\n",
       "        744866.2519455 ,  148319.49770451,  770054.34036255,\n",
       "        839293.71833801,  622366.66679382,  150127.17247009,\n",
       "        672749.28092957,  316705.82294464,  547248.42309952,\n",
       "        454468.10126305,  131063.75932693,  693378.21006775,\n",
       "        527889.72854614,  288965.79146385,  467377.96068192,\n",
       "       1060252.07042694,  676130.53321838,  410559.08799171,\n",
       "        319513.61894608,  152011.52861118])"
      ]
     },
     "execution_count": 35,
     "metadata": {},
     "output_type": "execute_result"
    }
   ],
   "source": [
    "predicts.flatten()"
   ]
  },
  {
   "cell_type": "code",
   "execution_count": 36,
   "id": "2dc35519",
   "metadata": {},
   "outputs": [
    {
     "data": {
      "text/plain": [
       "array([ 490000.,  389900., 1039000., 1595000.,   69800.,  799900.,\n",
       "        329900., 1499000.,  104900.,  196000.,  895000.,  335000.,\n",
       "        284900., 1199000., 1895000.,  275000.,  265000.,  560000.,\n",
       "        510000.,   89500.,  759000.,  534888.,  520000.,  949000.,\n",
       "       5858000.,  450000.,  385000.,  949000.,  289900.,  625000.,\n",
       "        250000.,  625000.,  299000.,  549000.,  580000.,  330000.,\n",
       "        897000., 1200000.,  279900.,  189000.,  425000.,  629000.,\n",
       "        949000., 2150000.,  999000.,  685000.,  380000.,  765000.,\n",
       "       1195000.,  664900.,  875000.,  479000.,  895000.,  104900.,\n",
       "        499000.,   79900., 1500000.,  489000., 1595000., 1795000.,\n",
       "        557000., 1080000.,  219500.,  515000.,  825500., 1698000.,\n",
       "        117000.,  303590.,  449000.,  469900.,  625000.,  541000.,\n",
       "         36000.,  569950.,   84900.,  899900.,  499000.,   87500.,\n",
       "        167400.,  218000.,  515000.,  530000.,  889000.,  799900.,\n",
       "        110000., 1299000.,  647000.,  979000.,  475000.,  179000.,\n",
       "        395000.,  458000.,  186500.,  565000.,  139900.,  895000.,\n",
       "        174900.,   69500.,  450000.,  579500.,   22000.,  158888.,\n",
       "        349900.,  695000.,  799000.,  106000.,   83900.,  117500.,\n",
       "        537000.,  619000.,  259000.,  547900.,  409900.,  409900.,\n",
       "        749000.,   98000.,  895000.,  649000.,  540000.,  175000.,\n",
       "        599000.,  229000.,  500000.,  350000.,  117500.,  769000.,\n",
       "        445000.,  174500.,  499500., 1290000.,  530000.,  454999.,\n",
       "        154000.,  115000.])"
      ]
     },
     "execution_count": 36,
     "metadata": {},
     "output_type": "execute_result"
    }
   ],
   "source": [
    "y_test.values * max_price"
   ]
  },
  {
   "cell_type": "code",
   "execution_count": 37,
   "id": "3041d1e1",
   "metadata": {},
   "outputs": [
    {
     "data": {
      "text/plain": [
       "array([2.80522356e+05, 1.43661707e+05, 1.15813817e+05, 2.14753122e+05,\n",
       "       1.54655193e+05, 6.24009920e+04, 1.37078818e+05, 3.83289145e+05,\n",
       "       2.41872999e+05, 1.23358319e+05, 2.75934477e+05, 1.54681289e+04,\n",
       "       3.84521017e+05, 5.27842998e+05, 9.25412197e+05, 7.69626856e+04,\n",
       "       2.48524890e+05, 4.68868256e+03, 1.97304249e+03, 8.81372194e+04,\n",
       "       3.69796339e+05, 2.45729060e+05, 1.56649191e+05, 2.12148189e+05,\n",
       "       5.25427779e+06, 7.78806925e+04, 2.24920607e+04, 2.98869370e+05,\n",
       "       3.42170601e+05, 7.92520046e+04, 1.89023435e+05, 1.04935169e+05,\n",
       "       3.88122345e+05, 4.78600612e+04, 3.20586729e+04, 1.33480562e+05,\n",
       "       2.08086519e+04, 6.32283211e+04, 2.10767840e+04, 4.89759936e+04,\n",
       "       5.21465123e+04, 3.18103352e+04, 1.96531891e+05, 8.90682006e+05,\n",
       "       5.13492095e+05, 8.39734697e+04, 1.14352609e+05, 3.09790516e+04,\n",
       "       3.86372871e+05, 2.21623624e+05, 1.18346334e+05, 1.09478565e+05,\n",
       "       2.05315728e+05, 1.40285882e+05, 5.36538458e+03, 1.90503147e+05,\n",
       "       1.08501393e+06, 9.23471675e+04, 1.47233934e+05, 1.51464976e+06,\n",
       "       1.08391829e+04, 4.04504137e+05, 1.34096747e+05, 2.92185092e+04,\n",
       "       1.55495893e+05, 7.56514714e+05, 3.71779339e+04, 7.98270074e+03,\n",
       "       9.04092798e+04, 1.66482699e+05, 1.05340719e+05, 6.14457812e+04,\n",
       "       8.50499480e+04, 4.02558004e+04, 7.43760533e+04, 1.54386718e+05,\n",
       "       1.48453427e+05, 1.10423958e+05, 1.11314359e+05, 1.91891367e+05,\n",
       "       2.02058411e+04, 4.11967945e+04, 2.36727895e+05, 7.81037258e+04,\n",
       "       3.43209350e+04, 7.79530977e+05, 3.82944794e+04, 3.96793155e+05,\n",
       "       1.94524610e+05, 1.15975072e+05, 1.18312101e+05, 3.07533574e+03,\n",
       "       2.70110024e+05, 4.75775576e+04, 2.64953970e+05, 1.39299054e+05,\n",
       "       1.06079604e+05, 8.39870714e+04, 1.00959349e+05, 1.48827036e+05,\n",
       "       1.17313668e+05, 6.74164568e+03, 9.05189587e+04, 1.82305522e+05,\n",
       "       4.13011560e+04, 4.42476484e+04, 1.45742913e+05, 5.63453656e+04,\n",
       "       1.64228630e+03, 9.50886784e+04, 1.92577306e+05, 1.46198234e+05,\n",
       "       1.96307371e+05, 7.14656807e+04, 4.13374805e+03, 5.03194977e+04,\n",
       "       1.24945660e+05, 1.90293718e+05, 8.23666668e+04, 2.48728275e+04,\n",
       "       7.37492809e+04, 8.77058229e+04, 4.72484231e+04, 1.04468101e+05,\n",
       "       1.35637593e+04, 7.56217899e+04, 8.28897285e+04, 1.14465791e+05,\n",
       "       3.21220393e+04, 2.29747930e+05, 1.46130533e+05, 4.44399120e+04,\n",
       "       1.65513619e+05, 3.70115286e+04])"
      ]
     },
     "execution_count": 37,
     "metadata": {},
     "output_type": "execute_result"
    }
   ],
   "source": [
    "diff = abs(predicts.flatten() - (y_test.values * max_price))\n",
    "diff"
   ]
  },
  {
   "cell_type": "code",
   "execution_count": 38,
   "id": "1a5dd89a",
   "metadata": {},
   "outputs": [
    {
     "data": {
      "text/plain": [
       "207911.43817864248"
      ]
     },
     "execution_count": 38,
     "metadata": {},
     "output_type": "execute_result"
    }
   ],
   "source": [
    "diff.mean()"
   ]
  },
  {
   "cell_type": "code",
   "execution_count": 39,
   "id": "751d5ebe",
   "metadata": {},
   "outputs": [
    {
     "data": {
      "text/plain": [
       "589362.8112149533"
      ]
     },
     "execution_count": 39,
     "metadata": {},
     "output_type": "execute_result"
    }
   ],
   "source": [
    "data['price'].mean()"
   ]
  },
  {
   "cell_type": "code",
   "execution_count": 40,
   "id": "b47d03df",
   "metadata": {},
   "outputs": [
    {
     "data": {
      "text/plain": [
       "509026.06764905644"
      ]
     },
     "execution_count": 40,
     "metadata": {},
     "output_type": "execute_result"
    }
   ],
   "source": [
    "data['price'].std()"
   ]
  },
  {
   "cell_type": "code",
   "execution_count": 41,
   "id": "d4c0b690",
   "metadata": {},
   "outputs": [],
   "source": [
    "from sklearn.metrics import r2_score, mean_absolute_error"
   ]
  },
  {
   "cell_type": "code",
   "execution_count": 42,
   "id": "3e0da1ff",
   "metadata": {},
   "outputs": [
    {
     "data": {
      "text/plain": [
       "0.26383236766492946"
      ]
     },
     "execution_count": 42,
     "metadata": {},
     "output_type": "execute_result"
    }
   ],
   "source": [
    "r2_score(y_true=(y_test.values * max_price), y_pred=predicts.flatten())"
   ]
  },
  {
   "cell_type": "code",
   "execution_count": 43,
   "id": "cb780e65",
   "metadata": {},
   "outputs": [
    {
     "name": "stdout",
     "output_type": "stream",
     "text": [
      "5/5 [==============================] - 0s 18ms/step\n"
     ]
    },
    {
     "data": {
      "text/plain": [
       "207911.4381786424"
      ]
     },
     "execution_count": 43,
     "metadata": {},
     "output_type": "execute_result"
    }
   ],
   "source": [
    "abs(model.predict([Xt, IX_test]).flatten() - y_test).mean() * max_price"
   ]
  }
 ],
 "metadata": {
  "kernelspec": {
   "display_name": "Python 3 (ipykernel)",
   "language": "python",
   "name": "python3"
  },
  "language_info": {
   "codemirror_mode": {
    "name": "ipython",
    "version": 3
   },
   "file_extension": ".py",
   "mimetype": "text/x-python",
   "name": "python",
   "nbconvert_exporter": "python",
   "pygments_lexer": "ipython3",
   "version": "3.9.12"
  }
 },
 "nbformat": 4,
 "nbformat_minor": 5
}
